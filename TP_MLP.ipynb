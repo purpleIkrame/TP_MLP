{
 "cells": [
  {
   "cell_type": "code",
   "execution_count": 10,
   "id": "6bf6a27c",
   "metadata": {},
   "outputs": [],
   "source": [
    "import numpy as np\n",
    "X = np.array([[0,0],[0,1]])\n",
    "y = np.array([[0],[1]])"
   ]
  },
  {
   "cell_type": "code",
   "execution_count": 11,
   "id": "0da5169b",
   "metadata": {},
   "outputs": [
    {
     "data": {
      "text/plain": [
       "MLPClassifier(hidden_layer_sizes=4)"
      ]
     },
     "execution_count": 11,
     "metadata": {},
     "output_type": "execute_result"
    }
   ],
   "source": [
    "from sklearn.neural_network import MLPClassifier\n",
    "#import warnings\n",
    "#warnings.filterwarnings (\"ignore\")\n",
    "clf = MLPClassifier(hidden_layer_sizes=4)\n",
    "clf.fit(X,y)"
   ]
  },
  {
   "cell_type": "code",
   "execution_count": 12,
   "id": "1a442675",
   "metadata": {},
   "outputs": [
    {
     "data": {
      "text/plain": [
       "array([0])"
      ]
     },
     "execution_count": 12,
     "metadata": {},
     "output_type": "execute_result"
    }
   ],
   "source": [
    "clf.predict(np.array([[2,2]]))"
   ]
  },
  {
   "cell_type": "code",
   "execution_count": 13,
   "id": "b530ed9d",
   "metadata": {},
   "outputs": [
    {
     "data": {
      "text/plain": [
       "array([0])"
      ]
     },
     "execution_count": 13,
     "metadata": {},
     "output_type": "execute_result"
    }
   ],
   "source": [
    "clf.predict(np.array([[-1,-2]]))"
   ]
  },
  {
   "cell_type": "code",
   "execution_count": 14,
   "id": "b9ae4e7a",
   "metadata": {},
   "outputs": [
    {
     "data": {
      "text/plain": [
       "[array([[-0.13769748,  0.01145726,  0.54681742,  0.00796113],\n",
       "        [ 0.64357429,  0.48279598,  0.71359535, -0.4384216 ]]),\n",
       " array([[-0.55109275],\n",
       "        [-0.95209105],\n",
       "        [-0.89931968],\n",
       "        [-1.09973292]])]"
      ]
     },
     "execution_count": 14,
     "metadata": {},
     "output_type": "execute_result"
    }
   ],
   "source": [
    "clf.coefs_"
   ]
  },
  {
   "cell_type": "code",
   "execution_count": 15,
   "id": "a28ee13d",
   "metadata": {},
   "outputs": [
    {
     "data": {
      "text/plain": [
       "[array([-0.66493263, -0.50187022, -0.73129745,  0.43811349]),\n",
       " array([0.02972144])]"
      ]
     },
     "execution_count": 15,
     "metadata": {},
     "output_type": "execute_result"
    }
   ],
   "source": [
    "clf.intercepts_"
   ]
  },
  {
   "cell_type": "raw",
   "id": "3ac66e96",
   "metadata": {},
   "source": [
    "# TRAVAIL SUR LE JEU DE DONNEES IRIS"
   ]
  },
  {
   "cell_type": "code",
   "execution_count": 16,
   "id": "7369812f",
   "metadata": {},
   "outputs": [],
   "source": [
    "from sklearn import datasets\n",
    "iris = datasets.load_iris()"
   ]
  },
  {
   "cell_type": "code",
   "execution_count": 17,
   "id": "933daa70",
   "metadata": {},
   "outputs": [],
   "source": [
    "from sklearn.model_selection import train_test_split\n",
    "X,y = iris.data, iris.target\n",
    "X_train, X_test, y_train, y_test = train_test_split(X, y, test_size=0.7)"
   ]
  },
  {
   "cell_type": "code",
   "execution_count": 33,
   "id": "7c27b0ba",
   "metadata": {
    "scrolled": true
   },
   "outputs": [],
   "source": [
    "import time\n",
    "from sklearn.model_selection import cross_val_score\n",
    "\n",
    "def MLPClassifier_fun_mdl (Nbr_HL,X_train,y_train,X_test) :\n",
    "    \n",
    "    start_time = time.time()\n",
    "    mlp = MLPClassifier(hidden_layer_sizes = Nbr_HL)\n",
    "    mlp.fit(X_train, y_train)\n",
    "    predictions = mlp.predict_proba(X_test)\n",
    "    train_score = mlp.score(X_train, y_train)\n",
    "    accuracies = cross_val_score(estimator = mlp, X = X_train, y = y_train, cv = 10)\n",
    "    end_time = time.time()\n",
    "    print('temps ecoule = '+str(end_time - start_time))\n",
    "    return accuracies.mean(), accuracies.std()"
   ]
  },
  {
   "cell_type": "code",
   "execution_count": 34,
   "id": "d1ccf36f",
   "metadata": {},
   "outputs": [
    {
     "name": "stdout",
     "output_type": "stream",
     "text": [
      "temps ecoule = 1.053612232208252\n"
     ]
    },
    {
     "data": {
      "text/plain": [
       "(0.885, 0.16132265804901677)"
      ]
     },
     "execution_count": 34,
     "metadata": {},
     "output_type": "execute_result"
    }
   ],
   "source": [
    "MLPClassifier_fun_mdl (35,X_train,y_train,X_test)"
   ]
  },
  {
   "cell_type": "code",
   "execution_count": 35,
   "id": "9178441f",
   "metadata": {},
   "outputs": [
    {
     "name": "stdout",
     "output_type": "stream",
     "text": [
      "temps ecoule = 1.9998672008514404\n"
     ]
    },
    {
     "data": {
      "text/plain": [
       "(0.9550000000000001, 0.09069178573608527)"
      ]
     },
     "execution_count": 35,
     "metadata": {},
     "output_type": "execute_result"
    }
   ],
   "source": [
    "MLPClassifier_fun_mdl ((15,200),X_train,y_train,X_test)"
   ]
  },
  {
   "cell_type": "code",
   "execution_count": 36,
   "id": "5459e6ce",
   "metadata": {},
   "outputs": [
    {
     "name": "stdout",
     "output_type": "stream",
     "text": [
      "temps ecoule = 2.0273706912994385\n"
     ]
    },
    {
     "data": {
      "text/plain": [
       "(0.93, 0.10770329614269007)"
      ]
     },
     "execution_count": 36,
     "metadata": {},
     "output_type": "execute_result"
    }
   ],
   "source": [
    "MLPClassifier_fun_mdl ((12,47,90),X_train,y_train,X_test)"
   ]
  },
  {
   "cell_type": "code",
   "execution_count": 37,
   "id": "e5f03a23",
   "metadata": {},
   "outputs": [
    {
     "name": "stdout",
     "output_type": "stream",
     "text": [
      "temps ecoule = 2.2619292736053467\n"
     ]
    },
    {
     "data": {
      "text/plain": [
       "(0.95, 0.09999999999999999)"
      ]
     },
     "execution_count": 37,
     "metadata": {},
     "output_type": "execute_result"
    }
   ],
   "source": [
    "MLPClassifier_fun_mdl ((50,100,150,250),X_train,y_train,X_test)"
   ]
  },
  {
   "cell_type": "code",
   "execution_count": 38,
   "id": "89e9841e",
   "metadata": {},
   "outputs": [
    {
     "name": "stdout",
     "output_type": "stream",
     "text": [
      "temps ecoule = 3.3425540924072266\n"
     ]
    },
    {
     "data": {
      "text/plain": [
       "(0.975, 0.075)"
      ]
     },
     "execution_count": 38,
     "metadata": {},
     "output_type": "execute_result"
    }
   ],
   "source": [
    "MLPClassifier_fun_mdl ((25,150,15,300,240),X_train,y_train,X_test)"
   ]
  },
  {
   "cell_type": "code",
   "execution_count": 41,
   "id": "9f799c8b",
   "metadata": {},
   "outputs": [],
   "source": [
    "from sklearn.svm import SVC\n",
    "\n",
    "def SVM_Fuc_poly (X_train,y_train, X_test): \n",
    "    \n",
    "    start_time = time.time()\n",
    "    classifier = SVC(kernel = 'poly', random_state = 0)\n",
    "    classifier.fit(X_train, y_train)\n",
    "    y_pred = classifier.predict(X_test)\n",
    "    #train_score = classifier.score(X_train, y_train)\n",
    "    accuracies = cross_val_score(estimator = classifier, X = X_train, y = y_train, cv = 10)\n",
    "    print(\"Accuracy of A SVM model: {:.2f} %\".format(accuracies.mean()*100))\n",
    "    print(\"Standard Deviation of A SVM model: {:.2f} %\".format(accuracies.std()*100))\n",
    "    end_time = time.time()\n",
    "    print('temps ecoule = '+str(end_time - start_time))\n",
    "    return accuracies.mean(), accuracies.std()"
   ]
  },
  {
   "cell_type": "code",
   "execution_count": 42,
   "id": "91f476e3",
   "metadata": {},
   "outputs": [
    {
     "name": "stdout",
     "output_type": "stream",
     "text": [
      "Accuracy of A SVM model: 95.00 %\n",
      "Standard Deviation of A SVM model: 15.00 %\n",
      "temps ecoule = 0.025821447372436523\n"
     ]
    },
    {
     "data": {
      "text/plain": [
       "(0.95, 0.15)"
      ]
     },
     "execution_count": 42,
     "metadata": {},
     "output_type": "execute_result"
    }
   ],
   "source": [
    "SVM_Fuc_poly (X_train,y_train, X_test)"
   ]
  },
  {
   "cell_type": "code",
   "execution_count": 43,
   "id": "c4a3f8e4",
   "metadata": {},
   "outputs": [],
   "source": [
    "from sklearn.preprocessing import StandardScaler\n",
    "scaler = StandardScaler()\n",
    "scaler.fit(X_train)\n",
    "X_train = scaler.transform(X_train)\n",
    "X_test = scaler.transform(X_test)"
   ]
  },
  {
   "cell_type": "code",
   "execution_count": 44,
   "id": "dcec5357",
   "metadata": {},
   "outputs": [
    {
     "name": "stdout",
     "output_type": "stream",
     "text": [
      "temps ecoule = 1.002885103225708\n"
     ]
    },
    {
     "data": {
      "text/plain": [
       "(0.9099999999999999, 0.11135528725660043)"
      ]
     },
     "execution_count": 44,
     "metadata": {},
     "output_type": "execute_result"
    }
   ],
   "source": [
    "MLPClassifier_fun_mdl (35,X_train,y_train,X_test)"
   ]
  },
  {
   "cell_type": "code",
   "execution_count": 45,
   "id": "b8eb0554",
   "metadata": {},
   "outputs": [
    {
     "name": "stdout",
     "output_type": "stream",
     "text": [
      "Accuracy of A SVM model: 95.00 %\n",
      "Standard Deviation of A SVM model: 15.00 %\n",
      "temps ecoule = 0.03171133995056152\n"
     ]
    },
    {
     "data": {
      "text/plain": [
       "(0.95, 0.15)"
      ]
     },
     "execution_count": 45,
     "metadata": {},
     "output_type": "execute_result"
    }
   ],
   "source": [
    "SVM_Fuc_poly (X_train,y_train, X_test)"
   ]
  },
  {
   "cell_type": "code",
   "execution_count": 46,
   "id": "a11708f7",
   "metadata": {},
   "outputs": [
    {
     "name": "stdout",
     "output_type": "stream",
     "text": [
      "{'activation': 'tanh', 'alpha': 0.0001, 'hidden_layer_sizes': (50, 50, 50), 'learning_rate_init': 0.1, 'max_iter': 100, 'solver': 'adam'}\n"
     ]
    }
   ],
   "source": [
    "from sklearn.model_selection import GridSearchCV\n",
    "parameter = {\n",
    "                        'hidden_layer_sizes': [(50,50,50), (50,100,50)],\n",
    "                        'activation': ['tanh', 'relu'],\n",
    "                        'solver': ['sgd', 'adam', 'L-BFGS' ],\n",
    "                        'alpha': [0.0001, 0.05],\n",
    "                        'learning_rate_init': [0.5,0.1, 0.01, 0.001],\n",
    "                        'max_iter': [100,200,250,1000]\n",
    "                        }\n",
    "clf=MLPClassifier()\n",
    "qlf=GridSearchCV (clf, parameter, n_jobs=-1, cv=8)\n",
    "qlf.fit(X_train, y_train)\n",
    "print (qlf.best_params_)"
   ]
  },
  {
   "cell_type": "raw",
   "id": "475cd4ed",
   "metadata": {},
   "source": [
    "# TRAVAIL SUR LE JEU DE DONNEES MNIST"
   ]
  },
  {
   "cell_type": "code",
   "execution_count": 47,
   "id": "1423cc62",
   "metadata": {},
   "outputs": [],
   "source": [
    "from sklearn.datasets import fetch_openml\n",
    "from sklearn.neural_network import MLPClassifier\n",
    "from sklearn.model_selection import train_test_split, GridSearchCV\n",
    "import pandas as pd\n",
    "\n",
    "df = fetch_openml(\"mnist_784\")"
   ]
  },
  {
   "cell_type": "code",
   "execution_count": 48,
   "id": "4ba13002",
   "metadata": {},
   "outputs": [
    {
     "data": {
      "text/html": [
       "<div>\n",
       "<style scoped>\n",
       "    .dataframe tbody tr th:only-of-type {\n",
       "        vertical-align: middle;\n",
       "    }\n",
       "\n",
       "    .dataframe tbody tr th {\n",
       "        vertical-align: top;\n",
       "    }\n",
       "\n",
       "    .dataframe thead th {\n",
       "        text-align: right;\n",
       "    }\n",
       "</style>\n",
       "<table border=\"1\" class=\"dataframe\">\n",
       "  <thead>\n",
       "    <tr style=\"text-align: right;\">\n",
       "      <th></th>\n",
       "      <th>pixel1</th>\n",
       "      <th>pixel2</th>\n",
       "      <th>pixel3</th>\n",
       "      <th>pixel4</th>\n",
       "      <th>pixel5</th>\n",
       "      <th>pixel6</th>\n",
       "      <th>pixel7</th>\n",
       "      <th>pixel8</th>\n",
       "      <th>pixel9</th>\n",
       "      <th>pixel10</th>\n",
       "      <th>...</th>\n",
       "      <th>pixel775</th>\n",
       "      <th>pixel776</th>\n",
       "      <th>pixel777</th>\n",
       "      <th>pixel778</th>\n",
       "      <th>pixel779</th>\n",
       "      <th>pixel780</th>\n",
       "      <th>pixel781</th>\n",
       "      <th>pixel782</th>\n",
       "      <th>pixel783</th>\n",
       "      <th>pixel784</th>\n",
       "    </tr>\n",
       "  </thead>\n",
       "  <tbody>\n",
       "    <tr>\n",
       "      <th>0</th>\n",
       "      <td>0.0</td>\n",
       "      <td>0.0</td>\n",
       "      <td>0.0</td>\n",
       "      <td>0.0</td>\n",
       "      <td>0.0</td>\n",
       "      <td>0.0</td>\n",
       "      <td>0.0</td>\n",
       "      <td>0.0</td>\n",
       "      <td>0.0</td>\n",
       "      <td>0.0</td>\n",
       "      <td>...</td>\n",
       "      <td>0.0</td>\n",
       "      <td>0.0</td>\n",
       "      <td>0.0</td>\n",
       "      <td>0.0</td>\n",
       "      <td>0.0</td>\n",
       "      <td>0.0</td>\n",
       "      <td>0.0</td>\n",
       "      <td>0.0</td>\n",
       "      <td>0.0</td>\n",
       "      <td>0.0</td>\n",
       "    </tr>\n",
       "    <tr>\n",
       "      <th>1</th>\n",
       "      <td>0.0</td>\n",
       "      <td>0.0</td>\n",
       "      <td>0.0</td>\n",
       "      <td>0.0</td>\n",
       "      <td>0.0</td>\n",
       "      <td>0.0</td>\n",
       "      <td>0.0</td>\n",
       "      <td>0.0</td>\n",
       "      <td>0.0</td>\n",
       "      <td>0.0</td>\n",
       "      <td>...</td>\n",
       "      <td>0.0</td>\n",
       "      <td>0.0</td>\n",
       "      <td>0.0</td>\n",
       "      <td>0.0</td>\n",
       "      <td>0.0</td>\n",
       "      <td>0.0</td>\n",
       "      <td>0.0</td>\n",
       "      <td>0.0</td>\n",
       "      <td>0.0</td>\n",
       "      <td>0.0</td>\n",
       "    </tr>\n",
       "    <tr>\n",
       "      <th>2</th>\n",
       "      <td>0.0</td>\n",
       "      <td>0.0</td>\n",
       "      <td>0.0</td>\n",
       "      <td>0.0</td>\n",
       "      <td>0.0</td>\n",
       "      <td>0.0</td>\n",
       "      <td>0.0</td>\n",
       "      <td>0.0</td>\n",
       "      <td>0.0</td>\n",
       "      <td>0.0</td>\n",
       "      <td>...</td>\n",
       "      <td>0.0</td>\n",
       "      <td>0.0</td>\n",
       "      <td>0.0</td>\n",
       "      <td>0.0</td>\n",
       "      <td>0.0</td>\n",
       "      <td>0.0</td>\n",
       "      <td>0.0</td>\n",
       "      <td>0.0</td>\n",
       "      <td>0.0</td>\n",
       "      <td>0.0</td>\n",
       "    </tr>\n",
       "    <tr>\n",
       "      <th>3</th>\n",
       "      <td>0.0</td>\n",
       "      <td>0.0</td>\n",
       "      <td>0.0</td>\n",
       "      <td>0.0</td>\n",
       "      <td>0.0</td>\n",
       "      <td>0.0</td>\n",
       "      <td>0.0</td>\n",
       "      <td>0.0</td>\n",
       "      <td>0.0</td>\n",
       "      <td>0.0</td>\n",
       "      <td>...</td>\n",
       "      <td>0.0</td>\n",
       "      <td>0.0</td>\n",
       "      <td>0.0</td>\n",
       "      <td>0.0</td>\n",
       "      <td>0.0</td>\n",
       "      <td>0.0</td>\n",
       "      <td>0.0</td>\n",
       "      <td>0.0</td>\n",
       "      <td>0.0</td>\n",
       "      <td>0.0</td>\n",
       "    </tr>\n",
       "    <tr>\n",
       "      <th>4</th>\n",
       "      <td>0.0</td>\n",
       "      <td>0.0</td>\n",
       "      <td>0.0</td>\n",
       "      <td>0.0</td>\n",
       "      <td>0.0</td>\n",
       "      <td>0.0</td>\n",
       "      <td>0.0</td>\n",
       "      <td>0.0</td>\n",
       "      <td>0.0</td>\n",
       "      <td>0.0</td>\n",
       "      <td>...</td>\n",
       "      <td>0.0</td>\n",
       "      <td>0.0</td>\n",
       "      <td>0.0</td>\n",
       "      <td>0.0</td>\n",
       "      <td>0.0</td>\n",
       "      <td>0.0</td>\n",
       "      <td>0.0</td>\n",
       "      <td>0.0</td>\n",
       "      <td>0.0</td>\n",
       "      <td>0.0</td>\n",
       "    </tr>\n",
       "  </tbody>\n",
       "</table>\n",
       "<p>5 rows × 784 columns</p>\n",
       "</div>"
      ],
      "text/plain": [
       "   pixel1  pixel2  pixel3  pixel4  pixel5  pixel6  pixel7  pixel8  pixel9  \\\n",
       "0     0.0     0.0     0.0     0.0     0.0     0.0     0.0     0.0     0.0   \n",
       "1     0.0     0.0     0.0     0.0     0.0     0.0     0.0     0.0     0.0   \n",
       "2     0.0     0.0     0.0     0.0     0.0     0.0     0.0     0.0     0.0   \n",
       "3     0.0     0.0     0.0     0.0     0.0     0.0     0.0     0.0     0.0   \n",
       "4     0.0     0.0     0.0     0.0     0.0     0.0     0.0     0.0     0.0   \n",
       "\n",
       "   pixel10  ...  pixel775  pixel776  pixel777  pixel778  pixel779  pixel780  \\\n",
       "0      0.0  ...       0.0       0.0       0.0       0.0       0.0       0.0   \n",
       "1      0.0  ...       0.0       0.0       0.0       0.0       0.0       0.0   \n",
       "2      0.0  ...       0.0       0.0       0.0       0.0       0.0       0.0   \n",
       "3      0.0  ...       0.0       0.0       0.0       0.0       0.0       0.0   \n",
       "4      0.0  ...       0.0       0.0       0.0       0.0       0.0       0.0   \n",
       "\n",
       "   pixel781  pixel782  pixel783  pixel784  \n",
       "0       0.0       0.0       0.0       0.0  \n",
       "1       0.0       0.0       0.0       0.0  \n",
       "2       0.0       0.0       0.0       0.0  \n",
       "3       0.0       0.0       0.0       0.0  \n",
       "4       0.0       0.0       0.0       0.0  \n",
       "\n",
       "[5 rows x 784 columns]"
      ]
     },
     "execution_count": 48,
     "metadata": {},
     "output_type": "execute_result"
    }
   ],
   "source": [
    "df.data.head()"
   ]
  },
  {
   "cell_type": "code",
   "execution_count": 50,
   "id": "c5e36f76",
   "metadata": {},
   "outputs": [
    {
     "data": {
      "image/png": "[encoded data removed]",
      "text/plain": [
       "<Figure size 432x288 with 1 Axes>"
      ]
     },
     "metadata": {
      "needs_background": "light"
     },
     "output_type": "display_data"
    },
    {
     "data": {
      "image/png": "[encoded data removed]",
      "text/plain": [
       "<Figure size 432x288 with 1 Axes>"
      ]
     },
     "metadata": {
      "needs_background": "light"
     },
     "output_type": "display_data"
    },
    {
     "data": {
      "image/png": "[encoded data removed]",
      "text/plain": [
       "<Figure size 432x288 with 1 Axes>"
      ]
     },
     "metadata": {
      "needs_background": "light"
     },
     "output_type": "display_data"
    },
    {
     "data": {
      "image/png": "[encoded data removed]",
      "text/plain": [
       "<Figure size 432x288 with 1 Axes>"
      ]
     },
     "metadata": {
      "needs_background": "light"
     },
     "output_type": "display_data"
    }
   ],
   "source": [
    "import matplotlib.pyplot as plt\n",
    "lotImage = df.data.to_numpy()\n",
    "\n",
    "for i in range(4):\n",
    "    plt.imshow((lotImage[i].reshape(28,28)))\n",
    "    plt.show()"
   ]
  },
  {
   "cell_type": "code",
   "execution_count": 51,
   "id": "03a881bf",
   "metadata": {},
   "outputs": [],
   "source": [
    "import time \n",
    "from sklearn.metrics import accuracy_score\n",
    "\n",
    "X_train = df.data[:60000]\n",
    "X_test = df.data[60000:]\n",
    "y_train = df.target[:60000]\n",
    "y_test = df.target[60000:]"
   ]
  },
  {
   "cell_type": "code",
   "execution_count": 52,
   "id": "f35e1b81",
   "metadata": {},
   "outputs": [
    {
     "name": "stdout",
     "output_type": "stream",
     "text": [
      "0.9628\n",
      "--- 274.0316090583801 seconds ---\n"
     ]
    }
   ],
   "source": [
    "start_time = time.time()\n",
    "mlp = MLPClassifier()\n",
    "mlp.fit(X_train, y_train)\n",
    "prediction = mlp.predict(X_test)\n",
    "print(accuracy_score(y_test, prediction))\n",
    "print(\"--- %s seconds ---\" % (time.time() - start_time))"
   ]
  },
  {
   "cell_type": "code",
   "execution_count": 53,
   "id": "e36991b3",
   "metadata": {},
   "outputs": [
    {
     "name": "stdout",
     "output_type": "stream",
     "text": [
      "0.9747\n",
      "--- 134.8828580379486 seconds ---\n"
     ]
    }
   ],
   "source": [
    "scaler = StandardScaler()\n",
    "X_train_scaler = scaler.fit_transform(X_train)\n",
    "X_test_scaler = scaler.fit_transform(X_test)\n",
    "\n",
    "start_time = time.time()\n",
    "mlp = MLPClassifier()\n",
    "mlp.fit(X_train_scaler, y_train)\n",
    "prediction = mlp.predict(X_test_scaler)\n",
    "print(accuracy_score(y_test, prediction))\n",
    "print(\"--- %s seconds ---\" % (time.time() - start_time))"
   ]
  },
  {
   "cell_type": "code",
   "execution_count": null,
   "id": "ec299a21",
   "metadata": {},
   "outputs": [],
   "source": [
    "parametres = {'hidden_layer_sizes':[(50),(50,50),(50,50,50)],\n",
    "             'activation':[\"identity\",\"logistic\",\"tanh\",\"relu\"],\n",
    "             'solver':[\"lbfgs\",\"sgd\",\"adam\"],\n",
    "             'alpha':[0.0000001,0.000001,0.00001,0.0001,0.001,0.01,0.1],\n",
    "             'learning_rate':[\"constant\",\"invscaling\",\"adaptive\"]}\n",
    "\n",
    "mlp_clf = MLPClassifier()\n",
    "gridS_mlp = GridSearchCV(mlp_clf, parametres, cv=3, n_jobs=4)\n",
    "gridS_mlp.fit(X_train_scaler, y_train)\n",
    "\n",
    "\n",
    "print(gridS_mlp.best_params_)"
   ]
  },
  {
   "cell_type": "code",
   "execution_count": null,
   "id": "13020c9d",
   "metadata": {},
   "outputs": [],
   "source": []
  }
 ],
 "metadata": {
  "kernelspec": {
   "display_name": "Python 3 (ipykernel)",
   "language": "python",
   "name": "python3"
  },
  "language_info": {
   "codemirror_mode": {
    "name": "ipython",
    "version": 3
   },
   "file_extension": ".py",
   "mimetype": "text/x-python",
   "name": "python",
   "nbconvert_exporter": "python",
   "pygments_lexer": "ipython3",
   "version": "3.9.12"
  }
 },
 "nbformat": 4,
 "nbformat_minor": 5
}
